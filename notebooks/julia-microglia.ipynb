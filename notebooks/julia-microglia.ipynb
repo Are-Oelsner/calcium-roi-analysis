{
 "cells": [
  {
   "cell_type": "code",
   "execution_count": 1,
   "metadata": {},
   "outputs": [
    {
     "name": "stdout",
     "output_type": "stream",
     "text": [
      "\u001b[32m\u001b[1mActivating\u001b[22m\u001b[39m environment at `~/projects/borton/calcium-roi-analysis/Project.toml`\n"
     ]
    }
   ],
   "source": [
    "]activate ../"
   ]
  },
  {
   "cell_type": "code",
   "execution_count": 2,
   "metadata": {},
   "outputs": [],
   "source": [
    "using Images\n",
    "using FileIO\n",
    "using ImageFiltering\n",
    "using ImageBinarization\n",
    "using ImageSegmentation\n",
    "using StatsBase\n",
    "using Plots"
   ]
  },
  {
   "cell_type": "code",
   "execution_count": 3,
   "metadata": {},
   "outputs": [
    {
     "data": {
      "text/plain": [
       "PyObject <module 'skimage' from '/Users/mrestrep/projects/borton/calcium-roi-analysis/.venv/lib/python3.8/site-packages/skimage/__init__.py'>"
      ]
     },
     "execution_count": 3,
     "metadata": {},
     "output_type": "execute_result"
    }
   ],
   "source": [
    "using PyCall\n",
    "# Needed for napari\n",
    "pygui_start(:qt5)\n",
    "# needed to kickstart Qt5 for some reason\n",
    "qapp_obj = pyimport(\"qtpy.QtWidgets\").QApplication([\"\"])\n",
    "napari = pyimport(\"napari\")\n",
    "skimage = pyimport(\"skimage\")"
   ]
  },
  {
   "cell_type": "code",
   "execution_count": 4,
   "metadata": {},
   "outputs": [
    {
     "data": {
      "text/plain": [
       "\"/Users/mrestrep/projects/borton/calacium_images/sophie_data/tiffs\""
      ]
     },
     "execution_count": 4,
     "metadata": {},
     "output_type": "execute_result"
    }
   ],
   "source": [
    "img_path = \"/Users/mrestrep/projects/borton/calacium_images/sophie_data/tiffs\""
   ]
  },
  {
   "cell_type": "code",
   "execution_count": 5,
   "metadata": {},
   "outputs": [
    {
     "data": {
      "text/plain": [
       "load_tiffstack (generic function with 1 method)"
      ]
     },
     "execution_count": 5,
     "metadata": {},
     "output_type": "execute_result"
    }
   ],
   "source": [
    "function load_tiffstack(img_path)\n",
    "    filenames = readdir(img_path)\n",
    "    c1_files = filenames[[file[end-7:end] .== \"c001.tif\" for file in filenames]]\n",
    "    temp = load(img_path * \"/\" * c1_files[1])\n",
    "    voi = zeros(eltype(temp), size(temp)..., size(c1_files)[1])\n",
    "    for (k, file) in enumerate(c1_files)\n",
    "        filename = img_path .* \"/\" .* file\n",
    "        img = load(filename)\n",
    "        voi[:,:,k]=img\n",
    "    end\n",
    "    return voi\n",
    "end"
   ]
  },
  {
   "cell_type": "code",
   "execution_count": 24,
   "metadata": {},
   "outputs": [],
   "source": [
    "voi = load_tiffstack(img_path);\n",
    "voi_napari = convert(Array{Float64}, voi)"
   ]
  },
  {
   "cell_type": "code",
   "execution_count": 24,
   "metadata": {},
   "outputs": [],
   "source": [
    "radius = []\n",
    "blob_sigmas = radius./sqrt(2)\n",
    "blob_shape = [1.0, 1.0, 1.0]"
   ]
  },
  {
   "cell_type": "code",
   "execution_count": 65,
   "metadata": {},
   "outputs": [],
   "source": [
    "for (i,sigma) in enumerate(blob_sigmas):\n",
    "    voi_filtere[i] = imfilter(voi, Kernel.gaussian((sigma,sigma,1)));\n"
   ]
  },
  {
   "cell_type": "code",
   "execution_count": 124,
   "metadata": {},
   "outputs": [
    {
     "name": "stdout",
     "output_type": "stream",
     "text": [
      "Finding blobs\n",
      " 31.539864 seconds (890 allocations: 21.168 GiB, 11.94% gc time)\n",
      "Found  380 blobs\n"
     ]
    }
   ],
   "source": [
    "println(\"Finding blobs\")\n",
    "@time blobs = blob_LoG(voi, blob_sigmas, true, blob_shape)\n",
    "n_blobs = length(blobs)\n",
    "println(\"Found  $n_blobs blobs\")"
   ]
  },
  {
   "cell_type": "code",
   "execution_count": 133,
   "metadata": {},
   "outputs": [],
   "source": [
    "blob_x = zeros(Int64, length(blobs))\n",
    "blob_y = zeros(Int64, length(blobs))\n",
    "blob_z = zeros(Int64, length(blobs))\n",
    "amplitude = zeros(Float64, length(blobs))\n",
    "σ = zeros(Float64, length(blobs))\n",
    "\n",
    "for i=1:length(blobs)\n",
    "    coord = blobs[i].location\n",
    "    blob_x[i]  = coord[1]\n",
    "    blob_y[i] = coord[2]\n",
    "    blob_z[i] = coord[3]\n",
    "    amplitude[i] = blobs[i].amplitude\n",
    "    σ[i] = blobs[i].σ\n",
    "end\n"
   ]
  },
  {
   "cell_type": "code",
   "execution_count": 130,
   "metadata": {},
   "outputs": [],
   "source": [
    "# intensity_scale = 20\n",
    "h = fit(Histogram, amplitude; nbins=500)\n",
    "bar(midpoints(h.edges...), h.weights)\n",
    "t_val = maximum(h.weights) - 100\n",
    "# savefig(output_path * \"/roi_$(roi_idx-1)/julia_log_blobs_hist.png\")\n",
    "t = midpoints(h.edges...)[findall(h.weights.>t_val)] .+ 0.0001\n",
    "thresh = t[1]\n",
    "valid = amplitude .> thresh;"
   ]
  },
  {
   "cell_type": "code",
   "execution_count": 134,
   "metadata": {},
   "outputs": [
    {
     "ename": "BoundsError",
     "evalue": "BoundsError: attempt to access 380-element Array{Int64,1} at index [Base.LogicalIndex(Bool[0, 0, 0, 0, 0, 0, 0, 0, 0, 0, 0, 0, 0, 0, 0, 0, 0, 0, 0, 0, 0, 0, 0, 0, 0, 0, 0, 0, 0, 0, 0, 0, 0, 0, 0, 0, 0, 0, 0, 0, 0, 0, 0, 0, 0, 0, 0, 0, 0, 0, 0, 0, 0, 0, 0, 0, 0, 0, 0, 0, 0, 0, 0, 0, 0, 0, 0, 0, 0, 0, 0, 0, 0, 0, 0, 0, 0])]",
     "output_type": "error",
     "traceback": [
      "BoundsError: attempt to access 380-element Array{Int64,1} at index [Base.LogicalIndex(Bool[0, 0, 0, 0, 0, 0, 0, 0, 0, 0, 0, 0, 0, 0, 0, 0, 0, 0, 0, 0, 0, 0, 0, 0, 0, 0, 0, 0, 0, 0, 0, 0, 0, 0, 0, 0, 0, 0, 0, 0, 0, 0, 0, 0, 0, 0, 0, 0, 0, 0, 0, 0, 0, 0, 0, 0, 0, 0, 0, 0, 0, 0, 0, 0, 0, 0, 0, 0, 0, 0, 0, 0, 0, 0, 0, 0, 0])]",
      "",
      "Stacktrace:",
      " [1] throw_boundserror(::Array{Int64,1}, ::Tuple{Base.LogicalIndex{Int64,BitArray{1}}}) at ./abstractarray.jl:538",
      " [2] checkbounds at ./abstractarray.jl:503 [inlined]",
      " [3] _getindex at ./multidimensional.jl:669 [inlined]",
      " [4] getindex(::Array{Int64,1}, ::BitArray{1}) at ./abstractarray.jl:981",
      " [5] top-level scope at In[134]:5"
     ]
    }
   ],
   "source": [
    "viewer = napari.view_image(voi_napari, rgb=false, name=\"raw\")\n",
    "viewer.add_image(convert(Array{Float64},voi_filtere1), name = \"gauss1\")\n",
    "viewer.add_image(convert(Array{Float64},voi_filtere5), name = \"gauss5\")\n",
    "viewer.add_image(convert(Array{Float64},voi_filtere7), name = \"gauss7\")\n",
    "viewer.add_points([ blob_x[valid] blob_y[valid] blob_z[valid]], size=3, face_color = \"#2aff05\", edge_color = \"#2aff05\", name = \"centroids\")\n",
    "viewer.add_points([ blob_x blob_y blob_z], size=3, face_color = \"#2aff05\", edge_color = \"#2aff05\", name = \"centroids-all\")\n",
    "\n"
   ]
  },
  {
   "cell_type": "code",
   "execution_count": 115,
   "metadata": {},
   "outputs": [
    {
     "ename": "LoadError",
     "evalue": "syntax: incomplete: premature end of input",
     "output_type": "error",
     "traceback": [
      "syntax: incomplete: premature end of input",
      ""
     ]
    }
   ],
   "source": [
    "[ blob_x[valid] blob_y[valid] blob_z[[valid]]"
   ]
  },
  {
   "cell_type": "code",
   "execution_count": 106,
   "metadata": {},
   "outputs": [
    {
     "name": "stdout",
     "output_type": "stream",
     "text": [
      "\u001b[32m\u001b[1m Resolving\u001b[22m\u001b[39m package versions...\n",
      "\u001b[32m\u001b[1m Installed\u001b[22m\u001b[39m Adapt ─────────── v2.0.2\n",
      "\u001b[32m\u001b[1m Installed\u001b[22m\u001b[39m StructArrays ──── v0.4.4\n",
      "\u001b[32m\u001b[1m Installed\u001b[22m\u001b[39m GeometryBasics ── v0.2.15\n",
      "\u001b[32m\u001b[1m Installed\u001b[22m\u001b[39m RecipesPipeline ─ v0.1.11\n",
      "\u001b[32m\u001b[1m Installed\u001b[22m\u001b[39m PlotUtils ─────── v1.0.5\n",
      "\u001b[32m\u001b[1m Installed\u001b[22m\u001b[39m Plots ─────────── v1.5.5\n",
      "\u001b[32m\u001b[1m Installed\u001b[22m\u001b[39m Contour ───────── v0.5.4\n",
      "\u001b[32m\u001b[1m Installed\u001b[22m\u001b[39m GR ────────────── v0.51.0\n",
      "\u001b[32m\u001b[1m  Updating\u001b[22m\u001b[39m `~/projects/borton/calcium-roi-analysis/Project.toml`\n",
      " \u001b[90m [91a5bcdd]\u001b[39m\u001b[92m + Plots v1.5.5\u001b[39m\n",
      "\u001b[32m\u001b[1m  Updating\u001b[22m\u001b[39m `~/projects/borton/calcium-roi-analysis/Manifest.toml`\n",
      " \u001b[90m [79e6a3ab]\u001b[39m\u001b[92m + Adapt v2.0.2\u001b[39m\n",
      " \u001b[90m [6e34b625]\u001b[39m\u001b[92m + Bzip2_jll v1.0.6+2\u001b[39m\n",
      " \u001b[90m [35d6a980]\u001b[39m\u001b[92m + ColorSchemes v3.9.0\u001b[39m\n",
      " \u001b[90m [d38c429a]\u001b[39m\u001b[92m + Contour v0.5.4\u001b[39m\n",
      " \u001b[90m [e2d170a0]\u001b[39m\u001b[92m + DataValueInterfaces v1.0.0\u001b[39m\n",
      " \u001b[90m [c87230d0]\u001b[39m\u001b[92m + FFMPEG v0.3.0\u001b[39m\n",
      " \u001b[90m [b22a6f82]\u001b[39m\u001b[92m + FFMPEG_jll v4.1.0+3\u001b[39m\n",
      " \u001b[90m [d7e528f0]\u001b[39m\u001b[92m + FreeType2_jll v2.10.1+2\u001b[39m\n",
      " \u001b[90m [559328eb]\u001b[39m\u001b[92m + FriBidi_jll v1.0.5+3\u001b[39m\n",
      " \u001b[90m [28b8d3ca]\u001b[39m\u001b[92m + GR v0.51.0\u001b[39m\n",
      " \u001b[90m [5c1252a2]\u001b[39m\u001b[92m + GeometryBasics v0.2.15\u001b[39m\n",
      " \u001b[90m [4d00f742]\u001b[39m\u001b[92m + GeometryTypes v0.8.3\u001b[39m\n",
      " \u001b[90m [cd3eb016]\u001b[39m\u001b[92m + HTTP v0.8.16\u001b[39m\n",
      " \u001b[90m [83e8ac13]\u001b[39m\u001b[92m + IniFile v0.5.0\u001b[39m\n",
      " \u001b[90m [82899510]\u001b[39m\u001b[92m + IteratorInterfaceExtensions v1.0.0\u001b[39m\n",
      " \u001b[90m [c1c5ebd0]\u001b[39m\u001b[92m + LAME_jll v3.100.0+1\u001b[39m\n",
      " \u001b[90m [dd192d2f]\u001b[39m\u001b[92m + LibVPX_jll v1.8.1+1\u001b[39m\n",
      " \u001b[90m [442fdcdd]\u001b[39m\u001b[92m + Measures v0.3.1\u001b[39m\n",
      " \u001b[90m [e7412a2a]\u001b[39m\u001b[92m + Ogg_jll v1.3.4+0\u001b[39m\n",
      " \u001b[90m [458c3c95]\u001b[39m\u001b[92m + OpenSSL_jll v1.1.1+4\u001b[39m\n",
      " \u001b[90m [91d4177d]\u001b[39m\u001b[92m + Opus_jll v1.3.1+1\u001b[39m\n",
      " \u001b[90m [ccf2f8ad]\u001b[39m\u001b[92m + PlotThemes v2.0.0\u001b[39m\n",
      " \u001b[90m [995b91a9]\u001b[39m\u001b[92m + PlotUtils v1.0.5\u001b[39m\n",
      " \u001b[90m [91a5bcdd]\u001b[39m\u001b[92m + Plots v1.5.5\u001b[39m\n",
      " \u001b[90m [01d81517]\u001b[39m\u001b[92m + RecipesPipeline v0.1.11\u001b[39m\n",
      " \u001b[90m [992d4aef]\u001b[39m\u001b[92m + Showoff v0.3.1\u001b[39m\n",
      " \u001b[90m [09ab397b]\u001b[39m\u001b[92m + StructArrays v0.4.4\u001b[39m\n",
      " \u001b[90m [3783bdb8]\u001b[39m\u001b[92m + TableTraits v1.0.0\u001b[39m\n",
      " \u001b[90m [bd369af6]\u001b[39m\u001b[92m + Tables v1.0.4\u001b[39m\n",
      " \u001b[90m [0ac62f75]\u001b[39m\u001b[92m + libass_jll v0.14.0+2\u001b[39m\n",
      " \u001b[90m [f638f0a6]\u001b[39m\u001b[92m + libfdk_aac_jll v0.1.6+2\u001b[39m\n",
      " \u001b[90m [f27f6e37]\u001b[39m\u001b[92m + libvorbis_jll v1.3.6+4\u001b[39m\n",
      " \u001b[90m [1270edf5]\u001b[39m\u001b[92m + x264_jll v2019.5.25+2\u001b[39m\n",
      " \u001b[90m [dfaa095f]\u001b[39m\u001b[92m + x265_jll v3.0.0+1\u001b[39m\n",
      "\u001b[32m\u001b[1m  Building\u001b[22m\u001b[39m GR ───→ `~/.julia/packages/GR/8mv9N/deps/build.log`\n",
      "\u001b[32m\u001b[1m  Building\u001b[22m\u001b[39m Plots → `~/.julia/packages/Plots/VA7Vx/deps/build.log`\n"
     ]
    }
   ],
   "source": [
    "Pkg.add(\"Plots\")"
   ]
  },
  {
   "cell_type": "code",
   "execution_count": null,
   "metadata": {},
   "outputs": [],
   "source": []
  }
 ],
 "metadata": {
  "kernelspec": {
   "display_name": "Julia 1.3.1",
   "language": "julia",
   "name": "julia-1.3"
  },
  "language_info": {
   "file_extension": ".jl",
   "mimetype": "application/julia",
   "name": "julia",
   "version": "1.3.1"
  }
 },
 "nbformat": 4,
 "nbformat_minor": 4
}
