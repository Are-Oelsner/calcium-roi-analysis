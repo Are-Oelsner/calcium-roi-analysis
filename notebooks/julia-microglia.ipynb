{
 "cells": [
  {
   "cell_type": "markdown",
   "metadata": {},
   "source": [
    "# Find Microglia\n",
    "\n",
    "This notebooks runs several Laplacian on Gaussian filters to find microglia cells. It is only used for localization as it assumes a blob-like share, which is only true with large smoothing"
   ]
  },
  {
   "cell_type": "markdown",
   "metadata": {},
   "source": [
    "## Activate environment and imports\n",
    "\n",
    "The packages needed are specified in `../Project.toml` file. The foolowwing activates that environmet so we can find the packages we need"
   ]
  },
  {
   "cell_type": "code",
   "execution_count": 8,
   "metadata": {},
   "outputs": [
    {
     "name": "stdout",
     "output_type": "stream",
     "text": [
      "\u001b[32m\u001b[1mActivating\u001b[22m\u001b[39m environment at `~/projects/borton/calcium-roi-analysis/Project.toml`\n"
     ]
    }
   ],
   "source": [
    "]activate ../"
   ]
  },
  {
   "cell_type": "code",
   "execution_count": 9,
   "metadata": {},
   "outputs": [
    {
     "name": "stderr",
     "output_type": "stream",
     "text": [
      "┌ Info: Precompiling ImageBinarization [cbc4b850-ae4b-5111-9e64-df94c024a13d]\n",
      "└ @ Base loading.jl:1273\n"
     ]
    }
   ],
   "source": [
    "using Revise #This allows for changes to files to be picked up without restarting kernel\n",
    "using Images\n",
    "using ImageFiltering\n",
    "using ImageBinarization\n",
    "using ImageSegmentation\n",
    "using StatsBase\n",
    "using Plots\n",
    "using NPZ\n",
    "using YAML\n",
    "Revise.includet(\"../julia_src/utils.jl\")"
   ]
  },
  {
   "cell_type": "markdown",
   "metadata": {},
   "source": [
    "## Napari\n",
    "The following is to import napari and relies on the Python environmet in the parent folder"
   ]
  },
  {
   "cell_type": "code",
   "execution_count": 10,
   "metadata": {},
   "outputs": [
    {
     "data": {
      "text/plain": [
       "PyObject <module 'skimage' from '/Users/mrestrep/projects/borton/calcium-roi-analysis/.venv/lib/python3.8/site-packages/skimage/__init__.py'>"
      ]
     },
     "execution_count": 10,
     "metadata": {},
     "output_type": "execute_result"
    }
   ],
   "source": [
    "using PyCall\n",
    "# Needed for napari\n",
    "pygui_start(:qt5)\n",
    "# needed to kickstart Qt5 for some reason\n",
    "qapp_obj = pyimport(\"qtpy.QtWidgets\").QApplication([\"\"])\n",
    "napari = pyimport(\"napari\")\n",
    "skimage = pyimport(\"skimage\")"
   ]
  },
  {
   "cell_type": "markdown",
   "metadata": {},
   "source": [
    "## Import parameters and read in data"
   ]
  },
  {
   "cell_type": "code",
   "execution_count": 17,
   "metadata": {},
   "outputs": [
    {
     "data": {
      "text/plain": [
       "(Dict{Any,Any}(\"radius\" => [5.0, 7.0, 9.0],\"output_base_path\" => \"/Users/mrestrep/projects/borton/calacium_images/sophie_data/julia_output\",\"input_tiff_dir\" => \"/Users/mrestrep/projects/borton/calacium_images/sophie_data/tiffs\"), \"/Users/mrestrep/projects/borton/calacium_images/sophie_data/tiffs\", \"/Users/mrestrep/projects/borton/calacium_images/sophie_data/julia_output\")"
      ]
     },
     "execution_count": 17,
     "metadata": {},
     "output_type": "execute_result"
    }
   ],
   "source": [
    "params, data_path, output_path = prepare_paths(\"../parameters/current.yaml\")"
   ]
  },
  {
   "cell_type": "code",
   "execution_count": 18,
   "metadata": {},
   "outputs": [
    {
     "data": {
      "text/plain": [
       "3-element Array{Float64,1}:\n",
       " 5.0\n",
       " 7.0\n",
       " 9.0"
      ]
     },
     "execution_count": 18,
     "metadata": {},
     "output_type": "execute_result"
    }
   ],
   "source": [
    "voi = load_tiffstack(data_path);\n",
    "voi_napari = convert(Array{Float64}, voi);\n",
    "radius = params[\"radius\"]"
   ]
  },
  {
   "cell_type": "markdown",
   "metadata": {},
   "source": [
    "## Run Laplacian of Gaussian filters\n",
    "\n",
    "The size is determined by the values of the radius specified in the parameter file. We assume isotropic shape."
   ]
  },
  {
   "cell_type": "code",
   "execution_count": 19,
   "metadata": {},
   "outputs": [
    {
     "data": {
      "text/plain": [
       "3-element Array{Float64,1}:\n",
       " 1.0\n",
       " 1.0\n",
       " 1.0"
      ]
     },
     "execution_count": 19,
     "metadata": {},
     "output_type": "execute_result"
    }
   ],
   "source": [
    "blob_sigmas = round.(radius./sqrt(2.))\n",
    "blob_shape = [1.0, 1.0, 1.0]"
   ]
  },
  {
   "cell_type": "code",
   "execution_count": 20,
   "metadata": {},
   "outputs": [],
   "source": [
    "voi_filtered = fill(zeros(eltype(voi), size(voi)), length(radius))\n",
    "for (i,sigma) in enumerate(blob_sigmas)\n",
    "    voi_filtered[i] = imfilter(voi, Kernel.gaussian((sigma,sigma,sigma)))\n",
    "end"
   ]
  },
  {
   "cell_type": "code",
   "execution_count": 21,
   "metadata": {},
   "outputs": [
    {
     "name": "stdout",
     "output_type": "stream",
     "text": [
      "Finding blobs\n",
      " 12.363071 seconds (3.07 M allocations: 8.833 GiB, 8.12% gc time)\n",
      "Found  5297 blobs\n"
     ]
    }
   ],
   "source": [
    "println(\"Finding blobs\")\n",
    "# The true allowd finding blobs in edge pixels, can try setting to false, but I have often found to few blobs that way\n",
    "@time blobs = blob_LoG(voi, blob_sigmas, true, blob_shape)\n",
    "n_blobs = length(blobs)\n",
    "println(\"Found  $n_blobs blobs\")"
   ]
  },
  {
   "cell_type": "code",
   "execution_count": 22,
   "metadata": {},
   "outputs": [],
   "source": [
    "blob_x = zeros(Int64, length(blobs))\n",
    "blob_y = zeros(Int64, length(blobs))\n",
    "blob_z = zeros(Int64, length(blobs))\n",
    "amplitude = zeros(Float64, length(blobs))\n",
    "σ = zeros(Float64, length(blobs))\n",
    "\n",
    "for i=1:length(blobs)\n",
    "    coord = blobs[i].location\n",
    "    blob_x[i]  = coord[1]\n",
    "    blob_y[i] = coord[2]\n",
    "    blob_z[i] = coord[3]\n",
    "    amplitude[i] = blobs[i].amplitude\n",
    "    σ[i] = blobs[i].σ\n",
    "end\n"
   ]
  },
  {
   "cell_type": "markdown",
   "metadata": {},
   "source": [
    "## Plot Histogram of Amplitude¶\n",
    "This sets the initial threshold to set in napari.\n"
   ]
  },
  {
   "cell_type": "code",
   "execution_count": 23,
   "metadata": {},
   "outputs": [
    {
     "data": {
      "text/plain": [
       "0.000105"
      ]
     },
     "execution_count": 23,
     "metadata": {},
     "output_type": "execute_result"
    }
   ],
   "source": [
    "# intensity_scale = 20\n",
    "h = fit(Histogram, amplitude; nbins=500)\n",
    "bar(midpoints(h.edges...), h.weights)\n",
    "t_val = maximum(h.weights) - 100\n",
    "t = midpoints(h.edges...)[findall(h.weights.>t_val)] .+ 0.0001\n",
    "thresh = t[1]"
   ]
  },
  {
   "cell_type": "markdown",
   "metadata": {},
   "source": [
    "## Save Data"
   ]
  },
  {
   "cell_type": "code",
   "execution_count": 28,
   "metadata": {},
   "outputs": [],
   "source": [
    "valid = amplitude .> thresh\n",
    "blobs_array = [ blob_x blob_y blob_z ]\n",
    "sigma_string = replace(join(string.(blob_sigmas), '-'), \".\" => \"_\")\n",
    "fout = output_path * \"/blobs-data-$(sigma_string).npz\"\n",
    "npzwrite(fout, Dict(\"coords\"=>blobs_array, \n",
    "                    \"class_label\"=>valid, \n",
    "                    \"confidence\"=>amplitude,\n",
    "                    \"sigma\" => σ,\n",
    "                    \"threshold\"=>thresh))"
   ]
  },
  {
   "cell_type": "markdown",
   "metadata": {},
   "source": [
    "## (Re)Load Data"
   ]
  },
  {
   "cell_type": "code",
   "execution_count": 29,
   "metadata": {},
   "outputs": [
    {
     "data": {
      "text/plain": [
       "Dict{String,Any} with 5 entries:\n",
       "  \"sigma\"       => [4.0, 4.0, 4.0, 4.0, 4.0, 4.0, 4.0, 4.0, 4.0, 4.0  …  4.0, 4…\n",
       "  \"threshold\"   => 0.000105\n",
       "  \"class_label\" => Bool[0, 0, 0, 0, 0, 0, 0, 0, 0, 0  …  0, 0, 0, 0, 0, 0, 0, 0…\n",
       "  \"coords\"      => [63 1 1; 96 1 1; … ; 496 512 54; 512 512 54]\n",
       "  \"confidence\"  => [1.94969e-6, 4.48598e-8, 1.98018e-6, 1.52618e-6, -3.24593e-7…"
      ]
     },
     "execution_count": 29,
     "metadata": {},
     "output_type": "execute_result"
    }
   ],
   "source": [
    "data = npzread(fout)"
   ]
  },
  {
   "cell_type": "markdown",
   "metadata": {},
   "source": [
    "## Visualization in Napari and threshold selection"
   ]
  },
  {
   "cell_type": "code",
   "execution_count": 59,
   "metadata": {},
   "outputs": [],
   "source": [
    "review_points = data[\"coords\"]\n",
    "class_labels = data[\"class_label\"]    \n",
    "review_properties = Dict(\n",
    " \"confidence\" => data[\"confidence\"],\n",
    " \"good_point\" => class_labels)\n",
    "confidence_t = data[\"threshold\"]\n",
    "face_color_cycle = [[0, 0, 1, 0.5], [0, 1, 0, 0.5]]\n",
    "### Napari show layers\n",
    "viewer = napari.view_image(voi_napari, rgb=false, name=\"raw\")\n",
    "for (i,sigma) in enumerate(blob_sigmas)\n",
    "    viewer.add_image(convert(Array{Float64},voi_filtered[i]), name = \"sigma = $sigma\")\n",
    "end\n",
    "points_layer = viewer.add_points(review_points,\n",
    "                 face_color=\"good_point\",\n",
    "                 edge_color=[1, 1, 1, 0],\n",
    "                 face_color_cycle=face_color_cycle,\n",
    "                 name=\"all points\",\n",
    "                 size=data[\"sigma\"],\n",
    "                 properties=review_properties)\n",
    "show_bad_points = true\n",
    "# viewer.bind_key(\"h\", hide_bad_points)\n"
   ]
  }
 ],
 "metadata": {
  "kernelspec": {
   "display_name": "Julia 1.3.1",
   "language": "julia",
   "name": "julia-1.3"
  },
  "language_info": {
   "file_extension": ".jl",
   "mimetype": "application/julia",
   "name": "julia",
   "version": "1.3.1"
  }
 },
 "nbformat": 4,
 "nbformat_minor": 4
}
