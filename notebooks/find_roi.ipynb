{
 "cells": [
  {
   "cell_type": "markdown",
   "metadata": {},
   "source": [
    "## Find regions of interest\n",
    "\n",
    "This notebooks finds bright spots within 2-d calcium images. The image in question correspons to the Maximum Projection Image (MIP) from a (short) video. The MIP was generated using Fiji"
   ]
  },
  {
   "cell_type": "code",
   "execution_count": 1,
   "metadata": {},
   "outputs": [],
   "source": [
    "%gui qt\n",
    "import matplotlib.pyplot as plt\n",
    "from skimage.filters import threshold_local,gaussian\n",
    "from skimage.io import imread, imshow\n",
    "from skimage import exposure\n",
    "from skimage.segmentation import watershed\n",
    "from skimage.feature import peak_local_max, blob_log\n",
    "import numpy as np\n",
    "from scipy import ndimage as ndi\n",
    "import matplotlib\n",
    "import matplotlib.pyplot as plt\n",
    "import napari"
   ]
  },
  {
   "cell_type": "markdown",
   "metadata": {},
   "source": [
    "## Read current parameter file\n",
    "Instead of placing the important parameters in this notebook, they are all saved in a `.yaml` file. This allows better bookiping of different paramters used and makes version control of the code/notebook simpler. When running an experiment, rename the desired parameter file to `current.yaml`"
   ]
  },
  {
   "cell_type": "code",
   "execution_count": null,
   "metadata": {},
   "outputs": [],
   "source": []
  }
 ],
 "metadata": {
  "kernelspec": {
   "name": "python38164bitvenvvenv060804e5c1af4299af1eb1bb0efccd46",
   "display_name": "Python 3.8.1 64-bit ('.venv': venv)"
  }
 },
 "nbformat": 4,
 "nbformat_minor": 4
}